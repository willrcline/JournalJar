{
 "cells": [
  {
   "cell_type": "code",
   "execution_count": 6,
   "source": [
    "import numpy as np\n",
    "import pandas as pd\n",
    "# from drive_functions import *\n",
    "from datetime import datetime, timedelta, date\n",
    "# from journal_doc_functions import *\n",
    "# from time_functions import *\n",
    "import config\n",
    "# os.chdir('/home/willcline/benji')\n",
    "cwd = os.getcwd()\n",
    "now = datetime.utcnow()\n",
    "client_data_path = cwd + '/client_data.csv'"
   ],
   "outputs": [],
   "metadata": {
    "collapsed": false
   }
  },
  {
   "cell_type": "code",
   "execution_count": 13,
   "source": [
    "from twilio.twiml.messaging_response import MessagingResponse\n",
    "from twilio.rest import Client"
   ],
   "outputs": [],
   "metadata": {}
  },
  {
   "cell_type": "code",
   "execution_count": 14,
   "source": [
    "twilio_phone = config.twilio_phone\n",
    "client = Client(config.twilio_account_sid, config.twilio_auth_token)"
   ],
   "outputs": [],
   "metadata": {}
  },
  {
   "cell_type": "code",
   "execution_count": 15,
   "source": [
    "msg = client.messages.create(\n",
    "                    body= (\"test in Jupyternotebook\"),\n",
    "                    from_=twilio_phone,\n",
    "                    to='+12058079007'\n",
    "                )"
   ],
   "outputs": [],
   "metadata": {}
  },
  {
   "cell_type": "code",
   "execution_count": 11,
   "source": [
    "phone = 2058079007\n",
    "email = 'willcline613@gmail.com'\n",
    "client_data = pd.read_csv('client_data.csv')\n",
    "row = client_data[(client_data['phone']==phone) & (client_data['email']==email)].reset_index()"
   ],
   "outputs": [],
   "metadata": {}
  },
  {
   "cell_type": "code",
   "execution_count": 12,
   "source": [
    "row"
   ],
   "outputs": [
    {
     "output_type": "execute_result",
     "data": {
      "text/plain": [
       "   index nickname       phone                   email account_active  \\\n",
       "0      0     Will  2058079007  willcline613@gmail.com              y   \n",
       "\n",
       "  signup_date  stripe_customer_id                            file_id  \\\n",
       "0  02/12/2022  cus_L8kQvReWMg6mtF  1IjmzEzSrCsmwt1sGB3KgbCCkszshZOPJ   \n",
       "\n",
       "                                            doc_link   time_zone  ... wq_time  \\\n",
       "0  https://drive.google.com/file/d/1IjmzEzSrCsmwt...  US/Central  ...     NaN   \n",
       "\n",
       "  mq_on  eq_on  wq_on                                         mq_prompt  \\\n",
       "0   NaN    NaN    NaN  How will he boldly sacrifice for his main goals?   \n",
       "\n",
       "                                           eq_prompt  \\\n",
       "0  How did today’s actions cause a celebratory ex...   \n",
       "\n",
       "                                           wq_prompt  mq_toggle_flag  \\\n",
       "0  How did he boldly take initiative and work har...               y   \n",
       "\n",
       "   eq_toggle_flag  wq_toggle_flag  \n",
       "0               y               n  \n",
       "\n",
       "[1 rows x 33 columns]"
      ],
      "text/html": [
       "<div>\n",
       "<style scoped>\n",
       "    .dataframe tbody tr th:only-of-type {\n",
       "        vertical-align: middle;\n",
       "    }\n",
       "\n",
       "    .dataframe tbody tr th {\n",
       "        vertical-align: top;\n",
       "    }\n",
       "\n",
       "    .dataframe thead th {\n",
       "        text-align: right;\n",
       "    }\n",
       "</style>\n",
       "<table border=\"1\" class=\"dataframe\">\n",
       "  <thead>\n",
       "    <tr style=\"text-align: right;\">\n",
       "      <th></th>\n",
       "      <th>index</th>\n",
       "      <th>nickname</th>\n",
       "      <th>phone</th>\n",
       "      <th>email</th>\n",
       "      <th>account_active</th>\n",
       "      <th>signup_date</th>\n",
       "      <th>stripe_customer_id</th>\n",
       "      <th>file_id</th>\n",
       "      <th>doc_link</th>\n",
       "      <th>time_zone</th>\n",
       "      <th>...</th>\n",
       "      <th>wq_time</th>\n",
       "      <th>mq_on</th>\n",
       "      <th>eq_on</th>\n",
       "      <th>wq_on</th>\n",
       "      <th>mq_prompt</th>\n",
       "      <th>eq_prompt</th>\n",
       "      <th>wq_prompt</th>\n",
       "      <th>mq_toggle_flag</th>\n",
       "      <th>eq_toggle_flag</th>\n",
       "      <th>wq_toggle_flag</th>\n",
       "    </tr>\n",
       "  </thead>\n",
       "  <tbody>\n",
       "    <tr>\n",
       "      <th>0</th>\n",
       "      <td>0</td>\n",
       "      <td>Will</td>\n",
       "      <td>2058079007</td>\n",
       "      <td>willcline613@gmail.com</td>\n",
       "      <td>y</td>\n",
       "      <td>02/12/2022</td>\n",
       "      <td>cus_L8kQvReWMg6mtF</td>\n",
       "      <td>1IjmzEzSrCsmwt1sGB3KgbCCkszshZOPJ</td>\n",
       "      <td>https://drive.google.com/file/d/1IjmzEzSrCsmwt...</td>\n",
       "      <td>US/Central</td>\n",
       "      <td>...</td>\n",
       "      <td>NaN</td>\n",
       "      <td>NaN</td>\n",
       "      <td>NaN</td>\n",
       "      <td>NaN</td>\n",
       "      <td>How will he boldly sacrifice for his main goals?</td>\n",
       "      <td>How did today’s actions cause a celebratory ex...</td>\n",
       "      <td>How did he boldly take initiative and work har...</td>\n",
       "      <td>y</td>\n",
       "      <td>y</td>\n",
       "      <td>n</td>\n",
       "    </tr>\n",
       "  </tbody>\n",
       "</table>\n",
       "<p>1 rows × 33 columns</p>\n",
       "</div>"
      ]
     },
     "metadata": {},
     "execution_count": 12
    }
   ],
   "metadata": {}
  },
  {
   "cell_type": "code",
   "execution_count": 9,
   "source": [
    "row['nickname'][0]"
   ],
   "outputs": [
    {
     "output_type": "error",
     "ename": "KeyError",
     "evalue": "0",
     "traceback": [
      "\u001b[0;31m---------------------------------------------------------------------------\u001b[0m",
      "\u001b[0;31mValueError\u001b[0m                                Traceback (most recent call last)",
      "File \u001b[0;32m/Library/Frameworks/Python.framework/Versions/3.10/lib/python3.10/site-packages/pandas/core/indexes/range.py:385\u001b[0m, in \u001b[0;36mRangeIndex.get_loc\u001b[0;34m(self, key, method, tolerance)\u001b[0m\n\u001b[1;32m    384\u001b[0m \u001b[38;5;28;01mtry\u001b[39;00m:\n\u001b[0;32m--> 385\u001b[0m     \u001b[38;5;28;01mreturn\u001b[39;00m \u001b[38;5;28;43mself\u001b[39;49m\u001b[38;5;241;43m.\u001b[39;49m\u001b[43m_range\u001b[49m\u001b[38;5;241;43m.\u001b[39;49m\u001b[43mindex\u001b[49m\u001b[43m(\u001b[49m\u001b[43mnew_key\u001b[49m\u001b[43m)\u001b[49m\n\u001b[1;32m    386\u001b[0m \u001b[38;5;28;01mexcept\u001b[39;00m \u001b[38;5;167;01mValueError\u001b[39;00m \u001b[38;5;28;01mas\u001b[39;00m err:\n",
      "\u001b[0;31mValueError\u001b[0m: 0 is not in range",
      "\nThe above exception was the direct cause of the following exception:\n",
      "\u001b[0;31mKeyError\u001b[0m                                  Traceback (most recent call last)",
      "Input \u001b[0;32mIn [9]\u001b[0m, in \u001b[0;36m<module>\u001b[0;34m\u001b[0m\n\u001b[0;32m----> 1\u001b[0m \u001b[43mrow\u001b[49m\u001b[43m[\u001b[49m\u001b[38;5;124;43m'\u001b[39;49m\u001b[38;5;124;43mnickname\u001b[39;49m\u001b[38;5;124;43m'\u001b[39;49m\u001b[43m]\u001b[49m\u001b[43m[\u001b[49m\u001b[38;5;241;43m0\u001b[39;49m\u001b[43m]\u001b[49m\n",
      "File \u001b[0;32m/Library/Frameworks/Python.framework/Versions/3.10/lib/python3.10/site-packages/pandas/core/series.py:959\u001b[0m, in \u001b[0;36mSeries.__getitem__\u001b[0;34m(self, key)\u001b[0m\n\u001b[1;32m    956\u001b[0m     \u001b[38;5;28;01mreturn\u001b[39;00m \u001b[38;5;28mself\u001b[39m\u001b[38;5;241m.\u001b[39m_values[key]\n\u001b[1;32m    958\u001b[0m \u001b[38;5;28;01melif\u001b[39;00m key_is_scalar:\n\u001b[0;32m--> 959\u001b[0m     \u001b[38;5;28;01mreturn\u001b[39;00m \u001b[38;5;28;43mself\u001b[39;49m\u001b[38;5;241;43m.\u001b[39;49m\u001b[43m_get_value\u001b[49m\u001b[43m(\u001b[49m\u001b[43mkey\u001b[49m\u001b[43m)\u001b[49m\n\u001b[1;32m    961\u001b[0m \u001b[38;5;28;01mif\u001b[39;00m is_hashable(key):\n\u001b[1;32m    962\u001b[0m     \u001b[38;5;66;03m# Otherwise index.get_value will raise InvalidIndexError\u001b[39;00m\n\u001b[1;32m    963\u001b[0m     \u001b[38;5;28;01mtry\u001b[39;00m:\n\u001b[1;32m    964\u001b[0m         \u001b[38;5;66;03m# For labels that don't resolve as scalars like tuples and frozensets\u001b[39;00m\n",
      "File \u001b[0;32m/Library/Frameworks/Python.framework/Versions/3.10/lib/python3.10/site-packages/pandas/core/series.py:1070\u001b[0m, in \u001b[0;36mSeries._get_value\u001b[0;34m(self, label, takeable)\u001b[0m\n\u001b[1;32m   1067\u001b[0m     \u001b[38;5;28;01mreturn\u001b[39;00m \u001b[38;5;28mself\u001b[39m\u001b[38;5;241m.\u001b[39m_values[label]\n\u001b[1;32m   1069\u001b[0m \u001b[38;5;66;03m# Similar to Index.get_value, but we do not fall back to positional\u001b[39;00m\n\u001b[0;32m-> 1070\u001b[0m loc \u001b[38;5;241m=\u001b[39m \u001b[38;5;28;43mself\u001b[39;49m\u001b[38;5;241;43m.\u001b[39;49m\u001b[43mindex\u001b[49m\u001b[38;5;241;43m.\u001b[39;49m\u001b[43mget_loc\u001b[49m\u001b[43m(\u001b[49m\u001b[43mlabel\u001b[49m\u001b[43m)\u001b[49m\n\u001b[1;32m   1071\u001b[0m \u001b[38;5;28;01mreturn\u001b[39;00m \u001b[38;5;28mself\u001b[39m\u001b[38;5;241m.\u001b[39mindex\u001b[38;5;241m.\u001b[39m_get_values_for_loc(\u001b[38;5;28mself\u001b[39m, loc, label)\n",
      "File \u001b[0;32m/Library/Frameworks/Python.framework/Versions/3.10/lib/python3.10/site-packages/pandas/core/indexes/range.py:387\u001b[0m, in \u001b[0;36mRangeIndex.get_loc\u001b[0;34m(self, key, method, tolerance)\u001b[0m\n\u001b[1;32m    385\u001b[0m         \u001b[38;5;28;01mreturn\u001b[39;00m \u001b[38;5;28mself\u001b[39m\u001b[38;5;241m.\u001b[39m_range\u001b[38;5;241m.\u001b[39mindex(new_key)\n\u001b[1;32m    386\u001b[0m     \u001b[38;5;28;01mexcept\u001b[39;00m \u001b[38;5;167;01mValueError\u001b[39;00m \u001b[38;5;28;01mas\u001b[39;00m err:\n\u001b[0;32m--> 387\u001b[0m         \u001b[38;5;28;01mraise\u001b[39;00m \u001b[38;5;167;01mKeyError\u001b[39;00m(key) \u001b[38;5;28;01mfrom\u001b[39;00m \u001b[38;5;21;01merr\u001b[39;00m\n\u001b[1;32m    388\u001b[0m \u001b[38;5;28mself\u001b[39m\u001b[38;5;241m.\u001b[39m_check_indexing_error(key)\n\u001b[1;32m    389\u001b[0m \u001b[38;5;28;01mraise\u001b[39;00m \u001b[38;5;167;01mKeyError\u001b[39;00m(key)\n",
      "\u001b[0;31mKeyError\u001b[0m: 0"
     ]
    }
   ],
   "metadata": {}
  },
  {
   "cell_type": "code",
   "execution_count": 2,
   "source": [
    "client_data = pd.read_csv(client_data_path)\n",
    "client_data.columns"
   ],
   "outputs": [
    {
     "output_type": "execute_result",
     "data": {
      "text/plain": [
       "Index(['nickname', 'phone', 'email', 'account_active', 'signup_date',\n",
       "       'stripe_customer_id', 'file_id', 'doc_link', 'time_zone', 'mq_time',\n",
       "       'eq_time', 'wants_responses_flag', 'morning_entry_qty',\n",
       "       'evening_entry_qty', 'most_recent_morning_entry_date',\n",
       "       'most_recent_evening_entry_date', 'morning_entry_streak',\n",
       "       'evening_entry_streak', 'morning_entry_qty_week',\n",
       "       'morning_entry_qty_month', 'evening_entry_qty_week',\n",
       "       'evening_entry_qty_month', 'wq_time', 'mq_on', 'eq_on', 'wq_on',\n",
       "       'mq_prompt', 'eq_prompt', 'wq_prompt', 'mq_toggle_flag',\n",
       "       'eq_toggle_flag', 'wq_toggle_flag'],\n",
       "      dtype='object')"
      ]
     },
     "metadata": {},
     "execution_count": 2
    }
   ],
   "metadata": {
    "collapsed": false
   }
  },
  {
   "cell_type": "code",
   "execution_count": 30,
   "source": [
    "client_data = pd.read_csv(client_data_path)\n",
    "client_data[['nickname', 'phone', 'morning_entry_qty',\n",
    "       'evening_entry_qty', 'most_recent_morning_entry_date',\n",
    "       'most_recent_evening_entry_date', 'morning_entry_streak',\n",
    "       'evening_entry_streak', 'morning_entry_qty_week',\n",
    "       'morning_entry_qty_month', 'evening_entry_qty_week',\n",
    "       'evening_entry_qty_month']]"
   ],
   "outputs": [
    {
     "output_type": "execute_result",
     "data": {
      "text/plain": [
       "          nickname       phone  morning_entry_qty  evening_entry_qty  \\\n",
       "0             Will  2058079007              168.0              164.0   \n",
       "1            Haadi  2563285508               15.0               28.0   \n",
       "2           Austin  2057777870                0.0                0.0   \n",
       "3            Gerry  2058075301                2.0                5.0   \n",
       "4           Reagan  2053329133               34.0                3.0   \n",
       "5   WaterInMyGlass  2059377587                2.0                2.0   \n",
       "6              Rob  2058370834                0.0                0.0   \n",
       "7            Quinn  2054419803                5.0                4.0   \n",
       "8             Dana  2513910763                1.0                0.0   \n",
       "9            Riley  2566066737               16.0               20.0   \n",
       "10         Matthew  2055803803               10.0                8.0   \n",
       "11        Raw Dawg  2053883406               16.0               19.0   \n",
       "12           Maryn  9802344006                NaN                NaN   \n",
       "13           Benji  2058073322                0.0                0.0   \n",
       "\n",
       "   most_recent_morning_entry_date most_recent_evening_entry_date  \\\n",
       "0                        08/27/22                       08/26/22   \n",
       "1                        06/21/22                       08/01/22   \n",
       "2                             NaN                            NaN   \n",
       "3                        02/24/22                       02/21/22   \n",
       "4                        06/16/22                       05/21/22   \n",
       "5                        03/01/22                       03/01/22   \n",
       "6                             NaN                            NaN   \n",
       "7                        03/10/22                       03/10/22   \n",
       "8                        03/08/22                            NaN   \n",
       "9                        08/15/22                       08/21/22   \n",
       "10                       07/11/22                       07/06/22   \n",
       "11                       08/24/22                       08/23/22   \n",
       "12                            NaN                            NaN   \n",
       "13                            NaN                            NaN   \n",
       "\n",
       "    morning_entry_streak  evening_entry_streak  morning_entry_qty_week  \\\n",
       "0                   13.0                  16.0                     7.0   \n",
       "1                    0.0                   0.0                     0.0   \n",
       "2                    0.0                   0.0                     0.0   \n",
       "3                    0.0                   0.0                     0.0   \n",
       "4                    0.0                   0.0                     0.0   \n",
       "5                    0.0                   0.0                     0.0   \n",
       "6                    0.0                   0.0                     0.0   \n",
       "7                    0.0                   0.0                     0.0   \n",
       "8                    0.0                   0.0                     0.0   \n",
       "9                    0.0                   0.0                     0.0   \n",
       "10                   0.0                   0.0                     0.0   \n",
       "11                   0.0                   0.0                     1.0   \n",
       "12                   NaN                   NaN                     NaN   \n",
       "13                   0.0                   0.0                     0.0   \n",
       "\n",
       "    morning_entry_qty_month  evening_entry_qty_week  evening_entry_qty_month  \n",
       "0                      24.0                     6.0                     23.0  \n",
       "1                       0.0                     0.0                      1.0  \n",
       "2                       0.0                     0.0                      0.0  \n",
       "3                       0.0                     0.0                      0.0  \n",
       "4                       0.0                     0.0                      0.0  \n",
       "5                       0.0                     0.0                      0.0  \n",
       "6                       0.0                     0.0                      0.0  \n",
       "7                       0.0                     0.0                      0.0  \n",
       "8                       0.0                     0.0                      0.0  \n",
       "9                       2.0                     1.0                      5.0  \n",
       "10                      0.0                     0.0                      0.0  \n",
       "11                      1.0                     1.0                      2.0  \n",
       "12                      NaN                     NaN                      NaN  \n",
       "13                      0.0                     0.0                      0.0  "
      ],
      "text/html": [
       "<div>\n",
       "<style scoped>\n",
       "    .dataframe tbody tr th:only-of-type {\n",
       "        vertical-align: middle;\n",
       "    }\n",
       "\n",
       "    .dataframe tbody tr th {\n",
       "        vertical-align: top;\n",
       "    }\n",
       "\n",
       "    .dataframe thead th {\n",
       "        text-align: right;\n",
       "    }\n",
       "</style>\n",
       "<table border=\"1\" class=\"dataframe\">\n",
       "  <thead>\n",
       "    <tr style=\"text-align: right;\">\n",
       "      <th></th>\n",
       "      <th>nickname</th>\n",
       "      <th>phone</th>\n",
       "      <th>morning_entry_qty</th>\n",
       "      <th>evening_entry_qty</th>\n",
       "      <th>most_recent_morning_entry_date</th>\n",
       "      <th>most_recent_evening_entry_date</th>\n",
       "      <th>morning_entry_streak</th>\n",
       "      <th>evening_entry_streak</th>\n",
       "      <th>morning_entry_qty_week</th>\n",
       "      <th>morning_entry_qty_month</th>\n",
       "      <th>evening_entry_qty_week</th>\n",
       "      <th>evening_entry_qty_month</th>\n",
       "    </tr>\n",
       "  </thead>\n",
       "  <tbody>\n",
       "    <tr>\n",
       "      <th>0</th>\n",
       "      <td>Will</td>\n",
       "      <td>2058079007</td>\n",
       "      <td>168.0</td>\n",
       "      <td>164.0</td>\n",
       "      <td>08/27/22</td>\n",
       "      <td>08/26/22</td>\n",
       "      <td>13.0</td>\n",
       "      <td>16.0</td>\n",
       "      <td>7.0</td>\n",
       "      <td>24.0</td>\n",
       "      <td>6.0</td>\n",
       "      <td>23.0</td>\n",
       "    </tr>\n",
       "    <tr>\n",
       "      <th>1</th>\n",
       "      <td>Haadi</td>\n",
       "      <td>2563285508</td>\n",
       "      <td>15.0</td>\n",
       "      <td>28.0</td>\n",
       "      <td>06/21/22</td>\n",
       "      <td>08/01/22</td>\n",
       "      <td>0.0</td>\n",
       "      <td>0.0</td>\n",
       "      <td>0.0</td>\n",
       "      <td>0.0</td>\n",
       "      <td>0.0</td>\n",
       "      <td>1.0</td>\n",
       "    </tr>\n",
       "    <tr>\n",
       "      <th>2</th>\n",
       "      <td>Austin</td>\n",
       "      <td>2057777870</td>\n",
       "      <td>0.0</td>\n",
       "      <td>0.0</td>\n",
       "      <td>NaN</td>\n",
       "      <td>NaN</td>\n",
       "      <td>0.0</td>\n",
       "      <td>0.0</td>\n",
       "      <td>0.0</td>\n",
       "      <td>0.0</td>\n",
       "      <td>0.0</td>\n",
       "      <td>0.0</td>\n",
       "    </tr>\n",
       "    <tr>\n",
       "      <th>3</th>\n",
       "      <td>Gerry</td>\n",
       "      <td>2058075301</td>\n",
       "      <td>2.0</td>\n",
       "      <td>5.0</td>\n",
       "      <td>02/24/22</td>\n",
       "      <td>02/21/22</td>\n",
       "      <td>0.0</td>\n",
       "      <td>0.0</td>\n",
       "      <td>0.0</td>\n",
       "      <td>0.0</td>\n",
       "      <td>0.0</td>\n",
       "      <td>0.0</td>\n",
       "    </tr>\n",
       "    <tr>\n",
       "      <th>4</th>\n",
       "      <td>Reagan</td>\n",
       "      <td>2053329133</td>\n",
       "      <td>34.0</td>\n",
       "      <td>3.0</td>\n",
       "      <td>06/16/22</td>\n",
       "      <td>05/21/22</td>\n",
       "      <td>0.0</td>\n",
       "      <td>0.0</td>\n",
       "      <td>0.0</td>\n",
       "      <td>0.0</td>\n",
       "      <td>0.0</td>\n",
       "      <td>0.0</td>\n",
       "    </tr>\n",
       "    <tr>\n",
       "      <th>5</th>\n",
       "      <td>WaterInMyGlass</td>\n",
       "      <td>2059377587</td>\n",
       "      <td>2.0</td>\n",
       "      <td>2.0</td>\n",
       "      <td>03/01/22</td>\n",
       "      <td>03/01/22</td>\n",
       "      <td>0.0</td>\n",
       "      <td>0.0</td>\n",
       "      <td>0.0</td>\n",
       "      <td>0.0</td>\n",
       "      <td>0.0</td>\n",
       "      <td>0.0</td>\n",
       "    </tr>\n",
       "    <tr>\n",
       "      <th>6</th>\n",
       "      <td>Rob</td>\n",
       "      <td>2058370834</td>\n",
       "      <td>0.0</td>\n",
       "      <td>0.0</td>\n",
       "      <td>NaN</td>\n",
       "      <td>NaN</td>\n",
       "      <td>0.0</td>\n",
       "      <td>0.0</td>\n",
       "      <td>0.0</td>\n",
       "      <td>0.0</td>\n",
       "      <td>0.0</td>\n",
       "      <td>0.0</td>\n",
       "    </tr>\n",
       "    <tr>\n",
       "      <th>7</th>\n",
       "      <td>Quinn</td>\n",
       "      <td>2054419803</td>\n",
       "      <td>5.0</td>\n",
       "      <td>4.0</td>\n",
       "      <td>03/10/22</td>\n",
       "      <td>03/10/22</td>\n",
       "      <td>0.0</td>\n",
       "      <td>0.0</td>\n",
       "      <td>0.0</td>\n",
       "      <td>0.0</td>\n",
       "      <td>0.0</td>\n",
       "      <td>0.0</td>\n",
       "    </tr>\n",
       "    <tr>\n",
       "      <th>8</th>\n",
       "      <td>Dana</td>\n",
       "      <td>2513910763</td>\n",
       "      <td>1.0</td>\n",
       "      <td>0.0</td>\n",
       "      <td>03/08/22</td>\n",
       "      <td>NaN</td>\n",
       "      <td>0.0</td>\n",
       "      <td>0.0</td>\n",
       "      <td>0.0</td>\n",
       "      <td>0.0</td>\n",
       "      <td>0.0</td>\n",
       "      <td>0.0</td>\n",
       "    </tr>\n",
       "    <tr>\n",
       "      <th>9</th>\n",
       "      <td>Riley</td>\n",
       "      <td>2566066737</td>\n",
       "      <td>16.0</td>\n",
       "      <td>20.0</td>\n",
       "      <td>08/15/22</td>\n",
       "      <td>08/21/22</td>\n",
       "      <td>0.0</td>\n",
       "      <td>0.0</td>\n",
       "      <td>0.0</td>\n",
       "      <td>2.0</td>\n",
       "      <td>1.0</td>\n",
       "      <td>5.0</td>\n",
       "    </tr>\n",
       "    <tr>\n",
       "      <th>10</th>\n",
       "      <td>Matthew</td>\n",
       "      <td>2055803803</td>\n",
       "      <td>10.0</td>\n",
       "      <td>8.0</td>\n",
       "      <td>07/11/22</td>\n",
       "      <td>07/06/22</td>\n",
       "      <td>0.0</td>\n",
       "      <td>0.0</td>\n",
       "      <td>0.0</td>\n",
       "      <td>0.0</td>\n",
       "      <td>0.0</td>\n",
       "      <td>0.0</td>\n",
       "    </tr>\n",
       "    <tr>\n",
       "      <th>11</th>\n",
       "      <td>Raw Dawg</td>\n",
       "      <td>2053883406</td>\n",
       "      <td>16.0</td>\n",
       "      <td>19.0</td>\n",
       "      <td>08/24/22</td>\n",
       "      <td>08/23/22</td>\n",
       "      <td>0.0</td>\n",
       "      <td>0.0</td>\n",
       "      <td>1.0</td>\n",
       "      <td>1.0</td>\n",
       "      <td>1.0</td>\n",
       "      <td>2.0</td>\n",
       "    </tr>\n",
       "    <tr>\n",
       "      <th>12</th>\n",
       "      <td>Maryn</td>\n",
       "      <td>9802344006</td>\n",
       "      <td>NaN</td>\n",
       "      <td>NaN</td>\n",
       "      <td>NaN</td>\n",
       "      <td>NaN</td>\n",
       "      <td>NaN</td>\n",
       "      <td>NaN</td>\n",
       "      <td>NaN</td>\n",
       "      <td>NaN</td>\n",
       "      <td>NaN</td>\n",
       "      <td>NaN</td>\n",
       "    </tr>\n",
       "    <tr>\n",
       "      <th>13</th>\n",
       "      <td>Benji</td>\n",
       "      <td>2058073322</td>\n",
       "      <td>0.0</td>\n",
       "      <td>0.0</td>\n",
       "      <td>NaN</td>\n",
       "      <td>NaN</td>\n",
       "      <td>0.0</td>\n",
       "      <td>0.0</td>\n",
       "      <td>0.0</td>\n",
       "      <td>0.0</td>\n",
       "      <td>0.0</td>\n",
       "      <td>0.0</td>\n",
       "    </tr>\n",
       "  </tbody>\n",
       "</table>\n",
       "</div>"
      ]
     },
     "metadata": {},
     "execution_count": 30
    }
   ],
   "metadata": {
    "collapsed": false
   }
  },
  {
   "cell_type": "code",
   "execution_count": null,
   "source": [
    "if ( (pd.isna(row['mq_toggle_flag'])) or (row['mq_toggle_flag']=='y') ) & (utc_now.hour == mq_dt.hour) & (utc_now.minute >= mq_dt.minute) & (utc_now.minute < mq_dt.minute + 5):\n",
    "    print('sending mq for ' + row['nickname'])\n",
    "    morning(row)\n",
    "if ( (pd.isna(row['eq_toggle_flag'])) or (row['eq_toggle_flag']=='y') ) & (utc_now.hour == eq_dt.hour) & (utc_now.minute >= eq_dt.minute) & (utc_now.minute < eq_dt.minute + 5):\n",
    "    print('sending eq for ' + row['nickname'])\n",
    "    evening(row)"
   ],
   "outputs": [],
   "metadata": {
    "collapsed": true
   }
  },
  {
   "cell_type": "code",
   "execution_count": 10,
   "source": [
    "utc_now = datetime.utcnow() #current utc time (operating system's time)"
   ],
   "outputs": [],
   "metadata": {
    "collapsed": true
   }
  },
  {
   "cell_type": "code",
   "execution_count": 54,
   "source": [
    "utc_now.hour"
   ],
   "outputs": [
    {
     "output_type": "execute_result",
     "data": {
      "text/plain": [
       "23"
      ]
     },
     "metadata": {},
     "execution_count": 54
    }
   ],
   "metadata": {
    "collapsed": false
   }
  },
  {
   "cell_type": "code",
   "execution_count": 55,
   "source": [
    "def to_utc(time, time_zone):\n",
    "    time_obj_utc = pytz.timezone(time_zone).localize(datetime(2000, 1, 1, int(time.split(\":\")[0]), int(time.split(\":\")[1]), 0), is_dst=True).astimezone(pytz.timezone('UTC'))\n",
    "    return time_obj_utc"
   ],
   "outputs": [],
   "metadata": {
    "collapsed": true
   }
  },
  {
   "cell_type": "code",
   "execution_count": null,
   "source": [
    "def to_utc(time, time_zone):\n",
    "    time_obj_utc = pytz.timezone(time_zone).localize(datetime(2000, 1, 1, int(time.split(\":\")[0]), int(time.split(\":\")[1]), 0), is_dst=True).astimezone(pytz.timezone('UTC'))\n",
    "    return time_obj_utc"
   ],
   "outputs": [],
   "metadata": {
    "collapsed": true
   }
  },
  {
   "cell_type": "code",
   "execution_count": 56,
   "source": [
    "time_zone = 'US/Central'\n",
    "mq_time = \"07:30\"\n",
    "eq_time = \"21:30\""
   ],
   "outputs": [],
   "metadata": {
    "collapsed": true
   }
  },
  {
   "cell_type": "code",
   "execution_count": null,
   "source": [],
   "outputs": [],
   "metadata": {
    "collapsed": true
   }
  },
  {
   "cell_type": "code",
   "execution_count": 77,
   "source": [
    "to_utc(\"18:35\", time_zone)"
   ],
   "outputs": [
    {
     "output_type": "execute_result",
     "data": {
      "text/plain": [
       "datetime.datetime(2000, 1, 2, 0, 35, tzinfo=<UTC>)"
      ]
     },
     "metadata": {},
     "execution_count": 77
    }
   ],
   "metadata": {
    "collapsed": false
   }
  },
  {
   "cell_type": "code",
   "execution_count": 58,
   "source": [
    "mq_dt = to_utc(mq_time, time_zone)\n",
    "eq_dt = to_utc(eq_time, time_zone)"
   ],
   "outputs": [],
   "metadata": {
    "collapsed": false
   }
  },
  {
   "cell_type": "code",
   "execution_count": 100,
   "source": [
    "mq_time = \"17:18\""
   ],
   "outputs": [],
   "metadata": {
    "collapsed": true
   }
  },
  {
   "cell_type": "code",
   "execution_count": 134,
   "source": [
    "time_zone = 'US/Central'"
   ],
   "outputs": [],
   "metadata": {
    "collapsed": true
   }
  },
  {
   "cell_type": "code",
   "execution_count": 74,
   "source": [
    "#timezone aware utc now\n",
    "def utcnow_tzaware():\n",
    "    return pytz.utc.localize(datetime.utcnow())"
   ],
   "outputs": [],
   "metadata": {
    "collapsed": true
   }
  },
  {
   "cell_type": "code",
   "execution_count": 75,
   "source": [
    "utcnow_tzaware()"
   ],
   "outputs": [
    {
     "output_type": "execute_result",
     "data": {
      "text/plain": [
       "datetime.datetime(2022, 8, 30, 0, 11, 20, 310769, tzinfo=<UTC>)"
      ]
     },
     "metadata": {},
     "execution_count": 75
    }
   ],
   "metadata": {
    "collapsed": false
   }
  },
  {
   "cell_type": "code",
   "execution_count": 76,
   "source": [
    "datetime.utcnow()"
   ],
   "outputs": [
    {
     "output_type": "execute_result",
     "data": {
      "text/plain": [
       "datetime.datetime(2022, 8, 30, 0, 11, 20, 759005)"
      ]
     },
     "metadata": {},
     "execution_count": 76
    }
   ],
   "metadata": {
    "collapsed": false
   }
  },
  {
   "cell_type": "code",
   "execution_count": 70,
   "source": [
    "pytz.timezone(time_zone).localize(datetime(2000, 1, 1, int(mq_time.split(\":\")[0]), int(mq_time.split(\":\")[1]), 0), is_dst=True).utcoffset().seconds"
   ],
   "outputs": [
    {
     "output_type": "execute_result",
     "data": {
      "text/plain": [
       "64800"
      ]
     },
     "metadata": {},
     "execution_count": 70
    }
   ],
   "metadata": {
    "collapsed": false,
    "scrolled": true
   }
  },
  {
   "cell_type": "code",
   "execution_count": 94,
   "source": [
    "pytz.timezone(time_zone).localize(datetime(2000, 1, 1, int(mq_time.split(\":\")[0]), int(mq_time.split(\":\")[1]), 0), is_dst=True).dst()"
   ],
   "outputs": [
    {
     "output_type": "execute_result",
     "data": {
      "text/plain": [
       "datetime.timedelta(0)"
      ]
     },
     "metadata": {},
     "execution_count": 94
    }
   ],
   "metadata": {
    "collapsed": false,
    "scrolled": true
   }
  },
  {
   "cell_type": "code",
   "execution_count": 103,
   "source": [
    "pytz.timezone(time_zone).localize(datetime(2022, 1, 1, int(mq_time.split(\":\")[0]), int(mq_time.split(\":\")[1]), 0), is_dst=True).astimezone(pytz.timezone('UTC')).hour"
   ],
   "outputs": [
    {
     "output_type": "execute_result",
     "data": {
      "text/plain": [
       "1"
      ]
     },
     "metadata": {},
     "execution_count": 103
    }
   ],
   "metadata": {
    "collapsed": false
   }
  },
  {
   "cell_type": "code",
   "execution_count": 115,
   "source": [
    "from datetime import datetime   \n",
    "import pytz\n",
    "\n",
    "local = pytz.timezone(\"US/Central\")\n",
    "naive = datetime.strptime(\"2001-2-3 19:11:12\", \"%Y-%m-%d %H:%M:%S\")\n",
    "local_dt = local.localize(naive, is_dst=False)\n",
    "utc_dt = local_dt.astimezone(pytz.utc)"
   ],
   "outputs": [],
   "metadata": {
    "collapsed": true
   }
  },
  {
   "cell_type": "code",
   "execution_count": 171,
   "source": [
    "def to_utc(time, time_zone):\n",
    "    utc = pytz.timezone('UTC')\n",
    "    now = utc.localize(datetime.utcnow())\n",
    "    #timezone of choice\n",
    "    tz = pytz.timezone(time_zone)\n",
    "\n",
    "    #create timestamp in timezone of choice\n",
    "    local_time = now.astimezone(tz)\n",
    "    \n",
    "    #now that I have an object with the right properties, replace the hour and minute to what you need it to be\n",
    "    h = int(time.split(\":\")[0])\n",
    "    m = int(time.split(\":\")[1])\n",
    "    local_time = local_time.replace(hour=h)\n",
    "    local_time = local_time.replace(minute=m)\n",
    "    \n",
    "    local_time = local_time.astimezone(utc)\n",
    "    return local_time"
   ],
   "outputs": [],
   "metadata": {
    "collapsed": true
   }
  },
  {
   "cell_type": "code",
   "execution_count": null,
   "source": [],
   "outputs": [],
   "metadata": {
    "collapsed": true
   }
  },
  {
   "cell_type": "code",
   "execution_count": 149,
   "source": [
    "to_utc(\"07:30\", 'US/Central')"
   ],
   "outputs": [
    {
     "output_type": "execute_result",
     "data": {
      "text/plain": [
       "datetime.datetime(2022, 8, 29, 7, 30, 53, 668239, tzinfo=<DstTzInfo 'US/Central' CDT-1 day, 19:00:00 DST>)"
      ]
     },
     "metadata": {},
     "execution_count": 149
    }
   ],
   "metadata": {
    "collapsed": false
   }
  },
  {
   "cell_type": "code",
   "execution_count": 143,
   "source": [
    "time_zone = 'US/Mountain'\n",
    "\n",
    "utc = pytz.timezone('UTC')\n",
    "now = utc.localize(datetime.utcnow())\n",
    "#timezone of choice\n",
    "tz = pytz.timezone(time_zone)\n",
    "\n",
    "#create timestamp in timezone of choice\n",
    "local_time = now.astimezone(tz)\n",
    "#now that I have an object with the right properties, replace the hour and minute to what you need it to be\n",
    "# local_time = local_time.replace(hour=21)\n",
    "# local_time = local_time.replace(minute=30)\n",
    "\n",
    "print('specified tz: '+ str(local_time.hour))\n",
    "print(\"utc: \"+ str(local_time.astimezone(pytz.utc).hour))"
   ],
   "outputs": [
    {
     "output_type": "stream",
     "name": "stdout",
     "text": [
      "specified tz: 19\n",
      "utc: 1\n"
     ]
    }
   ],
   "metadata": {
    "collapsed": false
   }
  },
  {
   "cell_type": "code",
   "execution_count": 123,
   "source": [
    "local_time"
   ],
   "outputs": [
    {
     "output_type": "execute_result",
     "data": {
      "text/plain": [
       "datetime.datetime(2022, 8, 29, 19, 52, 46, 951604, tzinfo=<DstTzInfo 'US/Central' CDT-1 day, 19:00:00 DST>)"
      ]
     },
     "metadata": {},
     "execution_count": 123
    }
   ],
   "metadata": {
    "collapsed": false
   }
  },
  {
   "cell_type": "code",
   "execution_count": 124,
   "source": [
    "local_time.astimezone(pytz.utc)"
   ],
   "outputs": [
    {
     "output_type": "execute_result",
     "data": {
      "text/plain": [
       "datetime.datetime(2022, 8, 30, 0, 52, 46, 951604, tzinfo=<UTC>)"
      ]
     },
     "metadata": {},
     "execution_count": 124
    }
   ],
   "metadata": {
    "collapsed": false
   }
  },
  {
   "cell_type": "code",
   "execution_count": 172,
   "source": [
    "time_zone = 'US/Central'\n",
    "eq_dt = to_utc(\"21:30\", time_zone)"
   ],
   "outputs": [],
   "metadata": {
    "collapsed": true
   }
  },
  {
   "cell_type": "code",
   "execution_count": 156,
   "source": [
    "utc_now = pytz.timezone('UTC').localize(datetime.utcnow())"
   ],
   "outputs": [],
   "metadata": {
    "collapsed": true
   }
  },
  {
   "cell_type": "code",
   "execution_count": 157,
   "source": [
    "client_data = pd.read_csv(client_data_path)\n",
    "row = client_data[client_data['phone']==2058079007].reset_index()"
   ],
   "outputs": [],
   "metadata": {
    "collapsed": true
   }
  },
  {
   "cell_type": "code",
   "execution_count": 173,
   "source": [
    "eq_dt.hour"
   ],
   "outputs": [
    {
     "output_type": "execute_result",
     "data": {
      "text/plain": [
       "2"
      ]
     },
     "metadata": {},
     "execution_count": 173
    }
   ],
   "metadata": {
    "collapsed": false
   }
  },
  {
   "cell_type": "code",
   "execution_count": 169,
   "source": [
    "utc_now.hour"
   ],
   "outputs": [
    {
     "output_type": "execute_result",
     "data": {
      "text/plain": [
       "2"
      ]
     },
     "metadata": {},
     "execution_count": 169
    }
   ],
   "metadata": {
    "collapsed": false
   }
  },
  {
   "cell_type": "code",
   "execution_count": 163,
   "source": [
    "type(eq_dt)"
   ],
   "outputs": [
    {
     "output_type": "execute_result",
     "data": {
      "text/plain": [
       "datetime.datetime"
      ]
     },
     "metadata": {},
     "execution_count": 163
    }
   ],
   "metadata": {
    "collapsed": false
   }
  },
  {
   "cell_type": "code",
   "execution_count": 164,
   "source": [
    "utc_now >= eq_dt"
   ],
   "outputs": [
    {
     "output_type": "execute_result",
     "data": {
      "text/plain": [
       "False"
      ]
     },
     "metadata": {},
     "execution_count": 164
    }
   ],
   "metadata": {
    "collapsed": false
   }
  },
  {
   "cell_type": "code",
   "execution_count": 165,
   "source": [
    "if( ( (pd.isna(row['eq_toggle_flag'][0])) or (row['eq_toggle_flag'][0]=='y') ) & (utc_now >= eq_dt) and (utc_now <= eq_dt + timedelta(hours=5)) ):\n",
    "        print(\"true\")"
   ],
   "outputs": [],
   "metadata": {
    "collapsed": false
   }
  },
  {
   "cell_type": "code",
   "execution_count": 150,
   "source": [
    "client_data[['nickname', 'phone', 'time_zone', 'eq_time', 'mq_time']]"
   ],
   "outputs": [
    {
     "output_type": "execute_result",
     "data": {
      "text/plain": [
       "          nickname       phone   time_zone eq_time mq_time\n",
       "0             Will  2058079007  US/Central   22:30   07:30\n",
       "1            Haadi  2563285508         NaN     NaN     NaN\n",
       "2           Austin  2057777870         NaN     NaN     NaN\n",
       "3            Gerry  2058075301         NaN     NaN     NaN\n",
       "4           Reagan  2053329133   US/Hawaii     NaN     NaN\n",
       "5   WaterInMyGlass  2059377587         NaN     NaN     NaN\n",
       "6              Rob  2058370834         NaN     NaN     NaN\n",
       "7            Quinn  2054419803         NaN     NaN     NaN\n",
       "8             Dana  2513910763         NaN     NaN     NaN\n",
       "9            Riley  2566066737         NaN     NaN     NaN\n",
       "10         Matthew  2055803803         NaN   21:00     NaN\n",
       "11        Raw Dawg  2053883406         NaN     NaN     NaN\n",
       "12           Maryn  9802344006         NaN     NaN     NaN\n",
       "13           Benji  2058073322         NaN     NaN     NaN"
      ],
      "text/html": [
       "<div>\n",
       "<style scoped>\n",
       "    .dataframe tbody tr th:only-of-type {\n",
       "        vertical-align: middle;\n",
       "    }\n",
       "\n",
       "    .dataframe tbody tr th {\n",
       "        vertical-align: top;\n",
       "    }\n",
       "\n",
       "    .dataframe thead th {\n",
       "        text-align: right;\n",
       "    }\n",
       "</style>\n",
       "<table border=\"1\" class=\"dataframe\">\n",
       "  <thead>\n",
       "    <tr style=\"text-align: right;\">\n",
       "      <th></th>\n",
       "      <th>nickname</th>\n",
       "      <th>phone</th>\n",
       "      <th>time_zone</th>\n",
       "      <th>eq_time</th>\n",
       "      <th>mq_time</th>\n",
       "    </tr>\n",
       "  </thead>\n",
       "  <tbody>\n",
       "    <tr>\n",
       "      <th>0</th>\n",
       "      <td>Will</td>\n",
       "      <td>2058079007</td>\n",
       "      <td>US/Central</td>\n",
       "      <td>22:30</td>\n",
       "      <td>07:30</td>\n",
       "    </tr>\n",
       "    <tr>\n",
       "      <th>1</th>\n",
       "      <td>Haadi</td>\n",
       "      <td>2563285508</td>\n",
       "      <td>NaN</td>\n",
       "      <td>NaN</td>\n",
       "      <td>NaN</td>\n",
       "    </tr>\n",
       "    <tr>\n",
       "      <th>2</th>\n",
       "      <td>Austin</td>\n",
       "      <td>2057777870</td>\n",
       "      <td>NaN</td>\n",
       "      <td>NaN</td>\n",
       "      <td>NaN</td>\n",
       "    </tr>\n",
       "    <tr>\n",
       "      <th>3</th>\n",
       "      <td>Gerry</td>\n",
       "      <td>2058075301</td>\n",
       "      <td>NaN</td>\n",
       "      <td>NaN</td>\n",
       "      <td>NaN</td>\n",
       "    </tr>\n",
       "    <tr>\n",
       "      <th>4</th>\n",
       "      <td>Reagan</td>\n",
       "      <td>2053329133</td>\n",
       "      <td>US/Hawaii</td>\n",
       "      <td>NaN</td>\n",
       "      <td>NaN</td>\n",
       "    </tr>\n",
       "    <tr>\n",
       "      <th>5</th>\n",
       "      <td>WaterInMyGlass</td>\n",
       "      <td>2059377587</td>\n",
       "      <td>NaN</td>\n",
       "      <td>NaN</td>\n",
       "      <td>NaN</td>\n",
       "    </tr>\n",
       "    <tr>\n",
       "      <th>6</th>\n",
       "      <td>Rob</td>\n",
       "      <td>2058370834</td>\n",
       "      <td>NaN</td>\n",
       "      <td>NaN</td>\n",
       "      <td>NaN</td>\n",
       "    </tr>\n",
       "    <tr>\n",
       "      <th>7</th>\n",
       "      <td>Quinn</td>\n",
       "      <td>2054419803</td>\n",
       "      <td>NaN</td>\n",
       "      <td>NaN</td>\n",
       "      <td>NaN</td>\n",
       "    </tr>\n",
       "    <tr>\n",
       "      <th>8</th>\n",
       "      <td>Dana</td>\n",
       "      <td>2513910763</td>\n",
       "      <td>NaN</td>\n",
       "      <td>NaN</td>\n",
       "      <td>NaN</td>\n",
       "    </tr>\n",
       "    <tr>\n",
       "      <th>9</th>\n",
       "      <td>Riley</td>\n",
       "      <td>2566066737</td>\n",
       "      <td>NaN</td>\n",
       "      <td>NaN</td>\n",
       "      <td>NaN</td>\n",
       "    </tr>\n",
       "    <tr>\n",
       "      <th>10</th>\n",
       "      <td>Matthew</td>\n",
       "      <td>2055803803</td>\n",
       "      <td>NaN</td>\n",
       "      <td>21:00</td>\n",
       "      <td>NaN</td>\n",
       "    </tr>\n",
       "    <tr>\n",
       "      <th>11</th>\n",
       "      <td>Raw Dawg</td>\n",
       "      <td>2053883406</td>\n",
       "      <td>NaN</td>\n",
       "      <td>NaN</td>\n",
       "      <td>NaN</td>\n",
       "    </tr>\n",
       "    <tr>\n",
       "      <th>12</th>\n",
       "      <td>Maryn</td>\n",
       "      <td>9802344006</td>\n",
       "      <td>NaN</td>\n",
       "      <td>NaN</td>\n",
       "      <td>NaN</td>\n",
       "    </tr>\n",
       "    <tr>\n",
       "      <th>13</th>\n",
       "      <td>Benji</td>\n",
       "      <td>2058073322</td>\n",
       "      <td>NaN</td>\n",
       "      <td>NaN</td>\n",
       "      <td>NaN</td>\n",
       "    </tr>\n",
       "  </tbody>\n",
       "</table>\n",
       "</div>"
      ]
     },
     "metadata": {},
     "execution_count": 150
    }
   ],
   "metadata": {
    "collapsed": false,
    "scrolled": true
   }
  },
  {
   "cell_type": "markdown",
   "source": [
    "# Data manipulation"
   ],
   "metadata": {}
  },
  {
   "cell_type": "code",
   "execution_count": 35,
   "source": [
    "client_data[\"mq_prompt\"] = "
   ],
   "outputs": [],
   "metadata": {
    "collapsed": true
   }
  },
  {
   "cell_type": "code",
   "execution_count": 17,
   "source": [
    "#Replace value in an entry\n",
    "client_data.loc[client_data.phone==2055803803,'eq_time']=\"21:00\""
   ],
   "outputs": [],
   "metadata": {
    "collapsed": true
   }
  },
  {
   "cell_type": "code",
   "execution_count": 201,
   "source": [
    "#delete entry\n",
    "phone = 2058075301\n",
    "client_data = client_data[client_data['phone'] != phone]"
   ],
   "outputs": [],
   "metadata": {
    "collapsed": true
   }
  },
  {
   "cell_type": "code",
   "execution_count": 36,
   "source": [
    "#!!!!!!!!!!!!!!!!!!!!!export datatable!!!!!!!!!!!!!!!!!!!!!\n",
    "client_data.to_csv('client_data.csv', index=False)\n",
    "#!!!!!!!!!!!!!!!!!!!!!export datatable!!!!!!!!!!!!!!!!!!!!!"
   ],
   "outputs": [],
   "metadata": {
    "collapsed": true
   }
  },
  {
   "cell_type": "code",
   "execution_count": 6,
   "source": [
    "client_data = pd.read_csv('client_data.csv')\n",
    "#return df row for certain client\n",
    "row = client_data[client_data['phone']==2058079007].reset_index()\n",
    "row"
   ],
   "outputs": [
    {
     "output_type": "execute_result",
     "data": {
      "text/plain": [
       "   index nickname       phone                   email account_active  \\\n",
       "0      0     Will  2058079007  willcline613@gmail.com              y   \n",
       "\n",
       "  signup_date  stripe_customer_id                            file_id  \\\n",
       "0  02/12/2022  cus_L8kQvReWMg6mtF  1IjmzEzSrCsmwt1sGB3KgbCCkszshZOPJ   \n",
       "\n",
       "                                            doc_link time_zone  ...  \\\n",
       "0  https://drive.google.com/file/d/1IjmzEzSrCsmwt...       NaN  ...   \n",
       "\n",
       "  morning_entry_streak evening_entry_streak morning_entry_qty_week  \\\n",
       "0                  7.0                  0.0                    6.0   \n",
       "\n",
       "   morning_entry_qty_month  evening_entry_qty_week evening_entry_qty_month  \\\n",
       "0                     18.0                     7.0                    17.0   \n",
       "\n",
       "  wq_time  mq_on  eq_on  wq_on  \n",
       "0     NaN    NaN    NaN    NaN  \n",
       "\n",
       "[1 rows x 27 columns]"
      ],
      "text/html": [
       "<div>\n",
       "<style scoped>\n",
       "    .dataframe tbody tr th:only-of-type {\n",
       "        vertical-align: middle;\n",
       "    }\n",
       "\n",
       "    .dataframe tbody tr th {\n",
       "        vertical-align: top;\n",
       "    }\n",
       "\n",
       "    .dataframe thead th {\n",
       "        text-align: right;\n",
       "    }\n",
       "</style>\n",
       "<table border=\"1\" class=\"dataframe\">\n",
       "  <thead>\n",
       "    <tr style=\"text-align: right;\">\n",
       "      <th></th>\n",
       "      <th>index</th>\n",
       "      <th>nickname</th>\n",
       "      <th>phone</th>\n",
       "      <th>email</th>\n",
       "      <th>account_active</th>\n",
       "      <th>signup_date</th>\n",
       "      <th>stripe_customer_id</th>\n",
       "      <th>file_id</th>\n",
       "      <th>doc_link</th>\n",
       "      <th>time_zone</th>\n",
       "      <th>...</th>\n",
       "      <th>morning_entry_streak</th>\n",
       "      <th>evening_entry_streak</th>\n",
       "      <th>morning_entry_qty_week</th>\n",
       "      <th>morning_entry_qty_month</th>\n",
       "      <th>evening_entry_qty_week</th>\n",
       "      <th>evening_entry_qty_month</th>\n",
       "      <th>wq_time</th>\n",
       "      <th>mq_on</th>\n",
       "      <th>eq_on</th>\n",
       "      <th>wq_on</th>\n",
       "    </tr>\n",
       "  </thead>\n",
       "  <tbody>\n",
       "    <tr>\n",
       "      <th>0</th>\n",
       "      <td>0</td>\n",
       "      <td>Will</td>\n",
       "      <td>2058079007</td>\n",
       "      <td>willcline613@gmail.com</td>\n",
       "      <td>y</td>\n",
       "      <td>02/12/2022</td>\n",
       "      <td>cus_L8kQvReWMg6mtF</td>\n",
       "      <td>1IjmzEzSrCsmwt1sGB3KgbCCkszshZOPJ</td>\n",
       "      <td>https://drive.google.com/file/d/1IjmzEzSrCsmwt...</td>\n",
       "      <td>NaN</td>\n",
       "      <td>...</td>\n",
       "      <td>7.0</td>\n",
       "      <td>0.0</td>\n",
       "      <td>6.0</td>\n",
       "      <td>18.0</td>\n",
       "      <td>7.0</td>\n",
       "      <td>17.0</td>\n",
       "      <td>NaN</td>\n",
       "      <td>NaN</td>\n",
       "      <td>NaN</td>\n",
       "      <td>NaN</td>\n",
       "    </tr>\n",
       "  </tbody>\n",
       "</table>\n",
       "<p>1 rows × 27 columns</p>\n",
       "</div>"
      ]
     },
     "metadata": {},
     "execution_count": 6
    }
   ],
   "metadata": {
    "collapsed": false
   }
  },
  {
   "cell_type": "code",
   "execution_count": 168,
   "source": [
    "uploadFile(row['nickname'][0], row['phone'][0])"
   ],
   "outputs": [
    {
     "output_type": "stream",
     "name": "stdout",
     "text": [
      "File ID: 15nSY2JNkHVMetQ72GURYbvlC9b1QNf2N\n"
     ]
    },
    {
     "output_type": "stream",
     "name": "stderr",
     "text": [
      "/Users/willcline/Documents/benji/drive_upload.py:52: SettingWithCopyWarning: \n",
      "A value is trying to be set on a copy of a slice from a DataFrame.\n",
      "Try using .loc[row_indexer,col_indexer] = value instead\n",
      "\n",
      "See the caveats in the documentation: https://pandas.pydata.org/pandas-docs/stable/user_guide/indexing.html#returning-a-view-versus-a-copy\n",
      "  file_metadata = {\n"
     ]
    }
   ],
   "metadata": {
    "collapsed": false
   }
  },
  {
   "cell_type": "code",
   "execution_count": 170,
   "source": [
    "updateFile(row['nickname'][0], row['phone'][0], row['file_id'][0])"
   ],
   "outputs": [
    {
     "output_type": "stream",
     "name": "stdout",
     "text": [
      "File ID: 1LaMx5Wxlrkt0wLpbQofm7eON68HSahwK\n"
     ]
    }
   ],
   "metadata": {
    "collapsed": false
   }
  },
  {
   "cell_type": "code",
   "execution_count": null,
   "source": [
    "entry_index = 1\n",
    "        #prev_date_str = most_recent_date\n",
    "        while (entry_index <= len(entry_dates)-1) & (entry_dates[entry_index] == (most_recent_date - timedelta(days=entry_index)).strftime(\"%m/%d/%y\")):\n",
    "            print(entry_index)\n",
    "            #prev_date_str = (most_recent_date - timedelta(days=entry_index)).strftime(\"%m/%d/%y\")\n",
    "            entry_index += 1\n",
    "        streak = entry_index"
   ],
   "outputs": [],
   "metadata": {
    "collapsed": true
   }
  },
  {
   "cell_type": "code",
   "execution_count": 11,
   "source": [
    "#entry_dates = ['02/26/22','02/25/22','02/24/22','02/23/22','02/26/22']\n",
    "entry_dates = ['02/26/22','02/25/22','02/24/22','02/23/22','02/22/22', '02/19/22', '02/02/22', '02/01/22']\n",
    "#entry_dates = ['02/25/22','02/24/22','02/23/22','02/22/22']\n",
    "#entry_dates = ['02/24/22','02/23/22','02/22/22']\n",
    "#entry_dates = []\n",
    "period = 'month'"
   ],
   "outputs": [],
   "metadata": {
    "collapsed": true
   }
  },
  {
   "cell_type": "code",
   "execution_count": 138,
   "source": [
    "cwd = os.getcwd()\n",
    "print(cwd)"
   ],
   "outputs": [
    {
     "output_type": "stream",
     "name": "stdout",
     "text": [
      "/home/willcline/benji/journals\n"
     ]
    }
   ],
   "metadata": {
    "collapsed": false
   }
  },
  {
   "cell_type": "code",
   "execution_count": 140,
   "source": [
    "import sys,os\n",
    "print(sys.path.append(os.path.realpath('/benji')))"
   ],
   "outputs": [
    {
     "output_type": "stream",
     "name": "stdout",
     "text": [
      "None\n"
     ]
    }
   ],
   "metadata": {
    "collapsed": false
   }
  },
  {
   "cell_type": "code",
   "execution_count": null,
   "source": [],
   "outputs": [],
   "metadata": {
    "collapsed": true
   }
  },
  {
   "cell_type": "code",
   "execution_count": 132,
   "source": [
    "os.chdir('/home/willcline/benji/journals')"
   ],
   "outputs": [],
   "metadata": {
    "collapsed": false
   }
  },
  {
   "cell_type": "code",
   "execution_count": 128,
   "source": [
    "import os\n",
    "cwd = os.getcwd()\n",
    "client_data_path = cwd + '/client_data.csv'\n",
    "client_data = pd.read_csv(client_data_path)\n",
    "client_data.tail()"
   ],
   "outputs": [
    {
     "output_type": "execute_result",
     "data": {
      "text/plain": [
       "    nickname       phone                      email account_active  \\\n",
       "7      Quinn  2054419803      nhquynh3011@gmail.com              y   \n",
       "8       Dana  2513910763     Danakhodde90@gmail.com              y   \n",
       "9      Riley  2566066737         rbud0110@gmail.com              y   \n",
       "10   Matthew  2055803803     Matthew@teamstrong.com              y   \n",
       "11  Raw Dawg  2053883406  cameronfreemann@gmail.com              y   \n",
       "\n",
       "   signup_date stripe_customer_id                            file_id  \\\n",
       "7     02/26/22                NaN  1T4hv1TIkvePaOz8Qpz1Z0kia8BGTkv-o   \n",
       "8     03/05/22                NaN  1GdI--FPOMvO3GQHfNklhrbSvi5yri2uv   \n",
       "9     05/08/22                NaN  1gBIj1PM58_nI5k0d4ttxXy-c4lN63Yr1   \n",
       "10    06/16/22                NaN  1o_LNYH_X8VgRf-cODhyrqvz_fW-ZEXl9   \n",
       "11    06/19/22                NaN  19Y_kV7MAk15TPWDPNn0gMQST6hMH4f4J   \n",
       "\n",
       "                                             doc_link time_zone mq_time  ...  \\\n",
       "7   https://drive.google.com/file/d/1T4hv1TIkvePaO...       NaN     NaN  ...   \n",
       "8   https://drive.google.com/file/d/1GdI--FPOMvO3G...       NaN     NaN  ...   \n",
       "9   https://drive.google.com/file/d/1gBIj1PM58_nI5...       NaN     NaN  ...   \n",
       "10  https://drive.google.com/file/d/1o_LNYH_X8VgRf...       NaN     NaN  ...   \n",
       "11  https://drive.google.com/file/d/19Y_kV7MAk15TP...       NaN     NaN  ...   \n",
       "\n",
       "   morning_entry_qty evening_entry_qty  most_recent_morning_entry_date  \\\n",
       "7                5.0               4.0                        03/10/22   \n",
       "8                1.0               0.0                        03/08/22   \n",
       "9               14.0              13.0                        06/01/22   \n",
       "10              10.0               8.0                        07/11/22   \n",
       "11              13.0              16.0                        07/09/22   \n",
       "\n",
       "    most_recent_evening_entry_date morning_entry_streak evening_entry_streak  \\\n",
       "7                         03/10/22                  0.0                  0.0   \n",
       "8                              NaN                  0.0                  0.0   \n",
       "9                         06/30/22                  0.0                  0.0   \n",
       "10                        07/06/22                  0.0                  0.0   \n",
       "11                        07/12/22                  0.0                  2.0   \n",
       "\n",
       "    morning_entry_qty_week  morning_entry_qty_month  evening_entry_qty_week  \\\n",
       "7                      0.0                      0.0                     0.0   \n",
       "8                      0.0                      0.0                     0.0   \n",
       "9                      0.0                      0.0                     0.0   \n",
       "10                     1.0                      2.0                     1.0   \n",
       "11                     2.0                      3.0                     5.0   \n",
       "\n",
       "    evening_entry_qty_month  \n",
       "7                       0.0  \n",
       "8                       0.0  \n",
       "9                       0.0  \n",
       "10                      1.0  \n",
       "11                      9.0  \n",
       "\n",
       "[5 rows x 22 columns]"
      ],
      "text/html": [
       "<div>\n",
       "<style scoped>\n",
       "    .dataframe tbody tr th:only-of-type {\n",
       "        vertical-align: middle;\n",
       "    }\n",
       "\n",
       "    .dataframe tbody tr th {\n",
       "        vertical-align: top;\n",
       "    }\n",
       "\n",
       "    .dataframe thead th {\n",
       "        text-align: right;\n",
       "    }\n",
       "</style>\n",
       "<table border=\"1\" class=\"dataframe\">\n",
       "  <thead>\n",
       "    <tr style=\"text-align: right;\">\n",
       "      <th></th>\n",
       "      <th>nickname</th>\n",
       "      <th>phone</th>\n",
       "      <th>email</th>\n",
       "      <th>account_active</th>\n",
       "      <th>signup_date</th>\n",
       "      <th>stripe_customer_id</th>\n",
       "      <th>file_id</th>\n",
       "      <th>doc_link</th>\n",
       "      <th>time_zone</th>\n",
       "      <th>mq_time</th>\n",
       "      <th>...</th>\n",
       "      <th>morning_entry_qty</th>\n",
       "      <th>evening_entry_qty</th>\n",
       "      <th>most_recent_morning_entry_date</th>\n",
       "      <th>most_recent_evening_entry_date</th>\n",
       "      <th>morning_entry_streak</th>\n",
       "      <th>evening_entry_streak</th>\n",
       "      <th>morning_entry_qty_week</th>\n",
       "      <th>morning_entry_qty_month</th>\n",
       "      <th>evening_entry_qty_week</th>\n",
       "      <th>evening_entry_qty_month</th>\n",
       "    </tr>\n",
       "  </thead>\n",
       "  <tbody>\n",
       "    <tr>\n",
       "      <th>7</th>\n",
       "      <td>Quinn</td>\n",
       "      <td>2054419803</td>\n",
       "      <td>nhquynh3011@gmail.com</td>\n",
       "      <td>y</td>\n",
       "      <td>02/26/22</td>\n",
       "      <td>NaN</td>\n",
       "      <td>1T4hv1TIkvePaOz8Qpz1Z0kia8BGTkv-o</td>\n",
       "      <td>https://drive.google.com/file/d/1T4hv1TIkvePaO...</td>\n",
       "      <td>NaN</td>\n",
       "      <td>NaN</td>\n",
       "      <td>...</td>\n",
       "      <td>5.0</td>\n",
       "      <td>4.0</td>\n",
       "      <td>03/10/22</td>\n",
       "      <td>03/10/22</td>\n",
       "      <td>0.0</td>\n",
       "      <td>0.0</td>\n",
       "      <td>0.0</td>\n",
       "      <td>0.0</td>\n",
       "      <td>0.0</td>\n",
       "      <td>0.0</td>\n",
       "    </tr>\n",
       "    <tr>\n",
       "      <th>8</th>\n",
       "      <td>Dana</td>\n",
       "      <td>2513910763</td>\n",
       "      <td>Danakhodde90@gmail.com</td>\n",
       "      <td>y</td>\n",
       "      <td>03/05/22</td>\n",
       "      <td>NaN</td>\n",
       "      <td>1GdI--FPOMvO3GQHfNklhrbSvi5yri2uv</td>\n",
       "      <td>https://drive.google.com/file/d/1GdI--FPOMvO3G...</td>\n",
       "      <td>NaN</td>\n",
       "      <td>NaN</td>\n",
       "      <td>...</td>\n",
       "      <td>1.0</td>\n",
       "      <td>0.0</td>\n",
       "      <td>03/08/22</td>\n",
       "      <td>NaN</td>\n",
       "      <td>0.0</td>\n",
       "      <td>0.0</td>\n",
       "      <td>0.0</td>\n",
       "      <td>0.0</td>\n",
       "      <td>0.0</td>\n",
       "      <td>0.0</td>\n",
       "    </tr>\n",
       "    <tr>\n",
       "      <th>9</th>\n",
       "      <td>Riley</td>\n",
       "      <td>2566066737</td>\n",
       "      <td>rbud0110@gmail.com</td>\n",
       "      <td>y</td>\n",
       "      <td>05/08/22</td>\n",
       "      <td>NaN</td>\n",
       "      <td>1gBIj1PM58_nI5k0d4ttxXy-c4lN63Yr1</td>\n",
       "      <td>https://drive.google.com/file/d/1gBIj1PM58_nI5...</td>\n",
       "      <td>NaN</td>\n",
       "      <td>NaN</td>\n",
       "      <td>...</td>\n",
       "      <td>14.0</td>\n",
       "      <td>13.0</td>\n",
       "      <td>06/01/22</td>\n",
       "      <td>06/30/22</td>\n",
       "      <td>0.0</td>\n",
       "      <td>0.0</td>\n",
       "      <td>0.0</td>\n",
       "      <td>0.0</td>\n",
       "      <td>0.0</td>\n",
       "      <td>0.0</td>\n",
       "    </tr>\n",
       "    <tr>\n",
       "      <th>10</th>\n",
       "      <td>Matthew</td>\n",
       "      <td>2055803803</td>\n",
       "      <td>Matthew@teamstrong.com</td>\n",
       "      <td>y</td>\n",
       "      <td>06/16/22</td>\n",
       "      <td>NaN</td>\n",
       "      <td>1o_LNYH_X8VgRf-cODhyrqvz_fW-ZEXl9</td>\n",
       "      <td>https://drive.google.com/file/d/1o_LNYH_X8VgRf...</td>\n",
       "      <td>NaN</td>\n",
       "      <td>NaN</td>\n",
       "      <td>...</td>\n",
       "      <td>10.0</td>\n",
       "      <td>8.0</td>\n",
       "      <td>07/11/22</td>\n",
       "      <td>07/06/22</td>\n",
       "      <td>0.0</td>\n",
       "      <td>0.0</td>\n",
       "      <td>1.0</td>\n",
       "      <td>2.0</td>\n",
       "      <td>1.0</td>\n",
       "      <td>1.0</td>\n",
       "    </tr>\n",
       "    <tr>\n",
       "      <th>11</th>\n",
       "      <td>Raw Dawg</td>\n",
       "      <td>2053883406</td>\n",
       "      <td>cameronfreemann@gmail.com</td>\n",
       "      <td>y</td>\n",
       "      <td>06/19/22</td>\n",
       "      <td>NaN</td>\n",
       "      <td>19Y_kV7MAk15TPWDPNn0gMQST6hMH4f4J</td>\n",
       "      <td>https://drive.google.com/file/d/19Y_kV7MAk15TP...</td>\n",
       "      <td>NaN</td>\n",
       "      <td>NaN</td>\n",
       "      <td>...</td>\n",
       "      <td>13.0</td>\n",
       "      <td>16.0</td>\n",
       "      <td>07/09/22</td>\n",
       "      <td>07/12/22</td>\n",
       "      <td>0.0</td>\n",
       "      <td>2.0</td>\n",
       "      <td>2.0</td>\n",
       "      <td>3.0</td>\n",
       "      <td>5.0</td>\n",
       "      <td>9.0</td>\n",
       "    </tr>\n",
       "  </tbody>\n",
       "</table>\n",
       "<p>5 rows × 22 columns</p>\n",
       "</div>"
      ]
     },
     "metadata": {},
     "execution_count": 128
    }
   ],
   "metadata": {
    "collapsed": false
   }
  },
  {
   "cell_type": "code",
   "execution_count": 14,
   "source": [
    "week_usage = get_usage_in_period(entry_dates, 'month')\n",
    "week_usage"
   ],
   "outputs": [
    {
     "output_type": "stream",
     "name": "stdout",
     "text": [
      "getting_usage month\n"
     ]
    },
    {
     "output_type": "execute_result",
     "data": {
      "text/plain": [
       "8"
      ]
     },
     "metadata": {},
     "execution_count": 14
    }
   ],
   "metadata": {
    "collapsed": false
   }
  },
  {
   "cell_type": "code",
   "execution_count": 5,
   "source": [
    "def get_usage_in_period(entry_dates, period):\n",
    "    #get all dates within time period compare to\n",
    "    print('getting_usage', period)\n",
    "    if period == 'week':\n",
    "        x=7\n",
    "        d = now.toordinal()\n",
    "        last = d - 6\n",
    "        su = last - (last % 7)\n",
    "        sunday = date.fromordinal(su)\n",
    "        dates = [(sunday + timedelta(days=idx)).strftime(\"%m/%d/%y\") for idx in range(7)]\n",
    "    elif period == 'month':\n",
    "        x = 31\n",
    "        month_start =  datetime.strptime((date_str.split('/')[0] + '/' + '01' + '/' + date_str.split('/')[2]), \"%m/%d/%y\")\n",
    "        dates = [(month_start + timedelta(days=idx)).strftime(\"%m/%d/%y\") for idx in range(31)]\n",
    "\n",
    "    tally = 0\n",
    "    for entry_date in entry_dates[:x]:\n",
    "        if entry_date in dates:\n",
    "            tally += 1\n",
    "    return tally"
   ],
   "outputs": [],
   "metadata": {
    "collapsed": true
   }
  },
  {
   "cell_type": "code",
   "execution_count": 136,
   "source": [
    "streak = get_current_streak(entry_dates)\n",
    "print(streak)"
   ],
   "outputs": [
    {
     "output_type": "stream",
     "name": "stdout",
     "text": [
      "0\n"
     ]
    }
   ],
   "metadata": {
    "collapsed": false
   }
  },
  {
   "cell_type": "code",
   "execution_count": 6,
   "source": [
    "'morning'.capitalize()"
   ],
   "outputs": [
    {
     "output_type": "execute_result",
     "data": {
      "text/plain": [
       "'Morning'"
      ]
     },
     "metadata": {},
     "execution_count": 6
    }
   ],
   "metadata": {
    "collapsed": false
   }
  },
  {
   "cell_type": "code",
   "execution_count": 39,
   "source": [
    "type = 'Morning'\n",
    "phone = 2057777870\n",
    "get_journal_metadata(type, phone)"
   ],
   "outputs": [
    {
     "output_type": "stream",
     "name": "stdout",
     "text": [
      "2057777870 0 0\n"
     ]
    }
   ],
   "metadata": {
    "collapsed": false
   }
  },
  {
   "cell_type": "code",
   "execution_count": 2,
   "source": [
    "#read in data table\n",
    "client_data = pd.read_csv('client_data.csv')\n",
    "print(client_data.shape)\n",
    "client_data.head(10)"
   ],
   "outputs": [
    {
     "output_type": "stream",
     "name": "stdout",
     "text": [
      "(8, 20)\n"
     ]
    },
    {
     "output_type": "execute_result",
     "data": {
      "text/plain": [
       "         nickname       phone                       email  \\\n",
       "0            Will  2058079007      willcline613@gmail.com   \n",
       "1           Haadi  2563285508    haadikarim1999@gmail.com   \n",
       "2          Austin  2057777870   AJcrowder1@crimson.ua.edu   \n",
       "3            Noah  2057894914   Noah.horton2022@gmail.com   \n",
       "4           Gerry  2058075301  gerry.blount2125@gmail.com   \n",
       "5          Reagan  2053329133      reaganecline@gmail.com   \n",
       "6  WaterInMyGlass  2059377587       Daniel@teamstrong.com   \n",
       "7             Rob  2058370834    Robthomas0111@gmail.com    \n",
       "\n",
       "                             file_id  \\\n",
       "0  1IjmzEzSrCsmwt1sGB3KgbCCkszshZOPJ   \n",
       "1  1PCLcETkTcxo8LHFwcWQkEf5d5khyhyGC   \n",
       "2  1JPbOCKfpXfm4pli-Y1Aij2NCQKGebuAD   \n",
       "3  1nMACACFxNnMq_Qnz6s6jkcNm3n8iJU90   \n",
       "4  1o8eHsSTrbmPJUBmG2Xe3wBul1y4S42bk   \n",
       "5  1jhjTgSpIz9L2aPHG3zp8aJSA5i6F38ek   \n",
       "6  1Tmi_ehaqVUnf8h8DyCEPk4fPdbXze8ee   \n",
       "7  14WOoapHaj_uiuZRkS2tcAz5KUR73Cigs   \n",
       "\n",
       "                                            doc_link signup_date  mq_time  \\\n",
       "0  https://drive.google.com/file/d/1IjmzEzSrCsmwt...  02/12/2022      NaN   \n",
       "1  https://drive.google.com/file/d/1PCLcETkTcxo8L...    02/17/22      NaN   \n",
       "2  https://drive.google.com/file/d/1JPbOCKfpXfm4p...    02/17/22      NaN   \n",
       "3  https://drive.google.com/file/d/1nMACACFxNnMq_...    02/17/22      NaN   \n",
       "4  https://drive.google.com/file/d/1o8eHsSTrbmPJU...    02/17/22      NaN   \n",
       "5  https://drive.google.com/file/d/1jhjTgSpIz9L2a...    02/22/22      NaN   \n",
       "6  https://drive.google.com/file/d/1Tmi_ehaqVUnf8...    02/26/22      NaN   \n",
       "7  https://drive.google.com/file/d/14WOoapHaj_uiu...    02/26/22      NaN   \n",
       "\n",
       "   eq_time  morning_entry_qty  evening_entry_qty  \\\n",
       "0      NaN               15.0               13.0   \n",
       "1      NaN                6.0                5.0   \n",
       "2      NaN                0.0                0.0   \n",
       "3      NaN                1.0                2.0   \n",
       "4      NaN                2.0                5.0   \n",
       "5      NaN                1.0                0.0   \n",
       "6      NaN                1.0                0.0   \n",
       "7      NaN                0.0                0.0   \n",
       "\n",
       "  most_recent_morning_entry_date most_recent_evening_entry_date  \\\n",
       "0                       02/26/22                       02/25/22   \n",
       "1                       02/25/22                       02/25/22   \n",
       "2                            NaN                            NaN   \n",
       "3                       02/19/22                       02/21/22   \n",
       "4                       02/24/22                       02/21/22   \n",
       "5                       02/25/22                            NaN   \n",
       "6                       02/26/22                            NaN   \n",
       "7                            NaN                            NaN   \n",
       "\n",
       "   morning_entry_streak  evening_entry_streak time_zone wants_responses_flag  \\\n",
       "0                  15.0                   7.0       NaN                  NaN   \n",
       "1                   2.0                   2.0       NaN                  NaN   \n",
       "2                   0.0                   0.0       NaN                  NaN   \n",
       "3                   0.0                   0.0       NaN                  NaN   \n",
       "4                   0.0                   0.0       NaN                    n   \n",
       "5                   1.0                   0.0       HST                  NaN   \n",
       "6                   1.0                   0.0       NaN                  NaN   \n",
       "7                   0.0                   0.0       NaN                  NaN   \n",
       "\n",
       "   morning_entry_qty_week  morning_entry_qty_month  evening_entry_qty_week  \\\n",
       "0                     7.0                     15.0                     6.0   \n",
       "1                     4.0                      6.0                     3.0   \n",
       "2                     0.0                      0.0                     0.0   \n",
       "3                     0.0                      1.0                     1.0   \n",
       "4                     1.0                      2.0                     2.0   \n",
       "5                     1.0                      1.0                     0.0   \n",
       "6                     1.0                      1.0                     0.0   \n",
       "7                     0.0                      0.0                     0.0   \n",
       "\n",
       "   evening_entry_qty_month  \n",
       "0                     13.0  \n",
       "1                      5.0  \n",
       "2                      0.0  \n",
       "3                      2.0  \n",
       "4                      5.0  \n",
       "5                      0.0  \n",
       "6                      0.0  \n",
       "7                      0.0  "
      ],
      "text/html": [
       "<div>\n",
       "<style scoped>\n",
       "    .dataframe tbody tr th:only-of-type {\n",
       "        vertical-align: middle;\n",
       "    }\n",
       "\n",
       "    .dataframe tbody tr th {\n",
       "        vertical-align: top;\n",
       "    }\n",
       "\n",
       "    .dataframe thead th {\n",
       "        text-align: right;\n",
       "    }\n",
       "</style>\n",
       "<table border=\"1\" class=\"dataframe\">\n",
       "  <thead>\n",
       "    <tr style=\"text-align: right;\">\n",
       "      <th></th>\n",
       "      <th>nickname</th>\n",
       "      <th>phone</th>\n",
       "      <th>email</th>\n",
       "      <th>file_id</th>\n",
       "      <th>doc_link</th>\n",
       "      <th>signup_date</th>\n",
       "      <th>mq_time</th>\n",
       "      <th>eq_time</th>\n",
       "      <th>morning_entry_qty</th>\n",
       "      <th>evening_entry_qty</th>\n",
       "      <th>most_recent_morning_entry_date</th>\n",
       "      <th>most_recent_evening_entry_date</th>\n",
       "      <th>morning_entry_streak</th>\n",
       "      <th>evening_entry_streak</th>\n",
       "      <th>time_zone</th>\n",
       "      <th>wants_responses_flag</th>\n",
       "      <th>morning_entry_qty_week</th>\n",
       "      <th>morning_entry_qty_month</th>\n",
       "      <th>evening_entry_qty_week</th>\n",
       "      <th>evening_entry_qty_month</th>\n",
       "    </tr>\n",
       "  </thead>\n",
       "  <tbody>\n",
       "    <tr>\n",
       "      <th>0</th>\n",
       "      <td>Will</td>\n",
       "      <td>2058079007</td>\n",
       "      <td>willcline613@gmail.com</td>\n",
       "      <td>1IjmzEzSrCsmwt1sGB3KgbCCkszshZOPJ</td>\n",
       "      <td>https://drive.google.com/file/d/1IjmzEzSrCsmwt...</td>\n",
       "      <td>02/12/2022</td>\n",
       "      <td>NaN</td>\n",
       "      <td>NaN</td>\n",
       "      <td>15.0</td>\n",
       "      <td>13.0</td>\n",
       "      <td>02/26/22</td>\n",
       "      <td>02/25/22</td>\n",
       "      <td>15.0</td>\n",
       "      <td>7.0</td>\n",
       "      <td>NaN</td>\n",
       "      <td>NaN</td>\n",
       "      <td>7.0</td>\n",
       "      <td>15.0</td>\n",
       "      <td>6.0</td>\n",
       "      <td>13.0</td>\n",
       "    </tr>\n",
       "    <tr>\n",
       "      <th>1</th>\n",
       "      <td>Haadi</td>\n",
       "      <td>2563285508</td>\n",
       "      <td>haadikarim1999@gmail.com</td>\n",
       "      <td>1PCLcETkTcxo8LHFwcWQkEf5d5khyhyGC</td>\n",
       "      <td>https://drive.google.com/file/d/1PCLcETkTcxo8L...</td>\n",
       "      <td>02/17/22</td>\n",
       "      <td>NaN</td>\n",
       "      <td>NaN</td>\n",
       "      <td>6.0</td>\n",
       "      <td>5.0</td>\n",
       "      <td>02/25/22</td>\n",
       "      <td>02/25/22</td>\n",
       "      <td>2.0</td>\n",
       "      <td>2.0</td>\n",
       "      <td>NaN</td>\n",
       "      <td>NaN</td>\n",
       "      <td>4.0</td>\n",
       "      <td>6.0</td>\n",
       "      <td>3.0</td>\n",
       "      <td>5.0</td>\n",
       "    </tr>\n",
       "    <tr>\n",
       "      <th>2</th>\n",
       "      <td>Austin</td>\n",
       "      <td>2057777870</td>\n",
       "      <td>AJcrowder1@crimson.ua.edu</td>\n",
       "      <td>1JPbOCKfpXfm4pli-Y1Aij2NCQKGebuAD</td>\n",
       "      <td>https://drive.google.com/file/d/1JPbOCKfpXfm4p...</td>\n",
       "      <td>02/17/22</td>\n",
       "      <td>NaN</td>\n",
       "      <td>NaN</td>\n",
       "      <td>0.0</td>\n",
       "      <td>0.0</td>\n",
       "      <td>NaN</td>\n",
       "      <td>NaN</td>\n",
       "      <td>0.0</td>\n",
       "      <td>0.0</td>\n",
       "      <td>NaN</td>\n",
       "      <td>NaN</td>\n",
       "      <td>0.0</td>\n",
       "      <td>0.0</td>\n",
       "      <td>0.0</td>\n",
       "      <td>0.0</td>\n",
       "    </tr>\n",
       "    <tr>\n",
       "      <th>3</th>\n",
       "      <td>Noah</td>\n",
       "      <td>2057894914</td>\n",
       "      <td>Noah.horton2022@gmail.com</td>\n",
       "      <td>1nMACACFxNnMq_Qnz6s6jkcNm3n8iJU90</td>\n",
       "      <td>https://drive.google.com/file/d/1nMACACFxNnMq_...</td>\n",
       "      <td>02/17/22</td>\n",
       "      <td>NaN</td>\n",
       "      <td>NaN</td>\n",
       "      <td>1.0</td>\n",
       "      <td>2.0</td>\n",
       "      <td>02/19/22</td>\n",
       "      <td>02/21/22</td>\n",
       "      <td>0.0</td>\n",
       "      <td>0.0</td>\n",
       "      <td>NaN</td>\n",
       "      <td>NaN</td>\n",
       "      <td>0.0</td>\n",
       "      <td>1.0</td>\n",
       "      <td>1.0</td>\n",
       "      <td>2.0</td>\n",
       "    </tr>\n",
       "    <tr>\n",
       "      <th>4</th>\n",
       "      <td>Gerry</td>\n",
       "      <td>2058075301</td>\n",
       "      <td>gerry.blount2125@gmail.com</td>\n",
       "      <td>1o8eHsSTrbmPJUBmG2Xe3wBul1y4S42bk</td>\n",
       "      <td>https://drive.google.com/file/d/1o8eHsSTrbmPJU...</td>\n",
       "      <td>02/17/22</td>\n",
       "      <td>NaN</td>\n",
       "      <td>NaN</td>\n",
       "      <td>2.0</td>\n",
       "      <td>5.0</td>\n",
       "      <td>02/24/22</td>\n",
       "      <td>02/21/22</td>\n",
       "      <td>0.0</td>\n",
       "      <td>0.0</td>\n",
       "      <td>NaN</td>\n",
       "      <td>n</td>\n",
       "      <td>1.0</td>\n",
       "      <td>2.0</td>\n",
       "      <td>2.0</td>\n",
       "      <td>5.0</td>\n",
       "    </tr>\n",
       "    <tr>\n",
       "      <th>5</th>\n",
       "      <td>Reagan</td>\n",
       "      <td>2053329133</td>\n",
       "      <td>reaganecline@gmail.com</td>\n",
       "      <td>1jhjTgSpIz9L2aPHG3zp8aJSA5i6F38ek</td>\n",
       "      <td>https://drive.google.com/file/d/1jhjTgSpIz9L2a...</td>\n",
       "      <td>02/22/22</td>\n",
       "      <td>NaN</td>\n",
       "      <td>NaN</td>\n",
       "      <td>1.0</td>\n",
       "      <td>0.0</td>\n",
       "      <td>02/25/22</td>\n",
       "      <td>NaN</td>\n",
       "      <td>1.0</td>\n",
       "      <td>0.0</td>\n",
       "      <td>HST</td>\n",
       "      <td>NaN</td>\n",
       "      <td>1.0</td>\n",
       "      <td>1.0</td>\n",
       "      <td>0.0</td>\n",
       "      <td>0.0</td>\n",
       "    </tr>\n",
       "    <tr>\n",
       "      <th>6</th>\n",
       "      <td>WaterInMyGlass</td>\n",
       "      <td>2059377587</td>\n",
       "      <td>Daniel@teamstrong.com</td>\n",
       "      <td>1Tmi_ehaqVUnf8h8DyCEPk4fPdbXze8ee</td>\n",
       "      <td>https://drive.google.com/file/d/1Tmi_ehaqVUnf8...</td>\n",
       "      <td>02/26/22</td>\n",
       "      <td>NaN</td>\n",
       "      <td>NaN</td>\n",
       "      <td>1.0</td>\n",
       "      <td>0.0</td>\n",
       "      <td>02/26/22</td>\n",
       "      <td>NaN</td>\n",
       "      <td>1.0</td>\n",
       "      <td>0.0</td>\n",
       "      <td>NaN</td>\n",
       "      <td>NaN</td>\n",
       "      <td>1.0</td>\n",
       "      <td>1.0</td>\n",
       "      <td>0.0</td>\n",
       "      <td>0.0</td>\n",
       "    </tr>\n",
       "    <tr>\n",
       "      <th>7</th>\n",
       "      <td>Rob</td>\n",
       "      <td>2058370834</td>\n",
       "      <td>Robthomas0111@gmail.com</td>\n",
       "      <td>14WOoapHaj_uiuZRkS2tcAz5KUR73Cigs</td>\n",
       "      <td>https://drive.google.com/file/d/14WOoapHaj_uiu...</td>\n",
       "      <td>02/26/22</td>\n",
       "      <td>NaN</td>\n",
       "      <td>NaN</td>\n",
       "      <td>0.0</td>\n",
       "      <td>0.0</td>\n",
       "      <td>NaN</td>\n",
       "      <td>NaN</td>\n",
       "      <td>0.0</td>\n",
       "      <td>0.0</td>\n",
       "      <td>NaN</td>\n",
       "      <td>NaN</td>\n",
       "      <td>0.0</td>\n",
       "      <td>0.0</td>\n",
       "      <td>0.0</td>\n",
       "      <td>0.0</td>\n",
       "    </tr>\n",
       "  </tbody>\n",
       "</table>\n",
       "</div>"
      ]
     },
     "metadata": {},
     "execution_count": 2
    }
   ],
   "metadata": {
    "collapsed": false
   }
  },
  {
   "cell_type": "code",
   "execution_count": 191,
   "source": [
    "update_all_client_metadata()"
   ],
   "outputs": [],
   "metadata": {
    "collapsed": true
   }
  },
  {
   "cell_type": "code",
   "execution_count": null,
   "source": [
    "\\U0001F525textmsgjournal.com\\U0001F525"
   ],
   "outputs": [],
   "metadata": {
    "collapsed": true
   }
  },
  {
   "cell_type": "code",
   "execution_count": null,
   "source": [
    "\\U0001F525\\U0001F973textmsgjournal.com\\U0001F973\\U0001F525"
   ],
   "outputs": [],
   "metadata": {
    "collapsed": true
   }
  },
  {
   "cell_type": "code",
   "execution_count": 185,
   "source": [
    "from twilio.rest import Client as twilioClient\n",
    "client = twilioClient(config.twilio_account_sid, config.twilio_auth_token)\n"
   ],
   "outputs": [],
   "metadata": {
    "collapsed": true
   }
  },
  {
   "cell_type": "code",
   "execution_count": null,
   "source": [
    "U+2B06"
   ],
   "outputs": [],
   "metadata": {
    "collapsed": true
   }
  },
  {
   "cell_type": "code",
   "execution_count": 183,
   "source": [
    "import os\n",
    "from twilio.rest import Client as twilioClient\n",
    "import time\n",
    "import pandas as pd\n",
    "import numpy as np\n",
    "import random\n",
    "from datetime import datetime\n",
    "from journal_doc_functions import *\n",
    "import config\n",
    "os.chdir(config.project_working_directory)\n",
    "cwd = os.getcwd()\n",
    "\n",
    "client_data_path = cwd + '/client_data.csv'\n",
    "\n",
    "client = twilioClient(config.twilio_account_sid, config.twilio_auth_token)"
   ],
   "outputs": [],
   "metadata": {
    "collapsed": true
   }
  },
  {
   "cell_type": "code",
   "execution_count": 190,
   "source": [
    " msg = client.messages.create(\n",
    "            body= \"\\U0001F604 \\n \\U00002714Streak: 1\",\n",
    "            from_='+12058555174',\n",
    "            to='+12058079007')"
   ],
   "outputs": [],
   "metadata": {
    "collapsed": false
   }
  },
  {
   "cell_type": "code",
   "execution_count": 198,
   "source": [
    " msg = client.messages.create(\n",
    "            body= (\n",
    "                \"Benji had technical difficulties the past few days, but it is now working perfectly.\"\\\n",
    "                + \"\\n\" + \"Sorry for the inconvenience.\" \\\n",
    "                + '\\n' + '\\n' + \"Also Benji now has a website at\"\\\n",
    "                + \"\\n\" + \"\\U0001F525\\U0001F525\\U0001F525\\U0001F525\\U0001F525\\U0001F525\\U0001F525\\U0001F525\\U0001F525\" \\\n",
    "                + \"\\n\" + \"\\U0001F973 textmsgjournal.com \\U0001F973\" \\\n",
    "                + \"\\n\" + \"\\U0001F525\\U0001F525\\U0001F525\\U0001F525\\U0001F525\\U0001F525\\U0001F525\\U0001F525\\U0001F525\"\n",
    "                + '\\n' + \"where you can login with your email via google\" \\\n",
    "                + '\\n' + \"(The website is still in production.)\"\n",
    "    \n",
    "    \n",
    "            ),\n",
    "            from_='+12058555174',\n",
    "            to=str(2058079007))"
   ],
   "outputs": [],
   "metadata": {
    "collapsed": false
   }
  },
  {
   "cell_type": "code",
   "execution_count": 199,
   "source": [
    "client_data = pd.read_csv(client_data_path)\n",
    "\n",
    "for id, row in client_data.iterrows():\n",
    "    try:\n",
    "        msg = client.messages.create(\n",
    "            body= (\n",
    "                \"Benji had technical difficulties the past few days, but it is now working perfectly.\"\\\n",
    "                + \"\\n\" + \"Sorry for the inconvenience.\" \\\n",
    "                + '\\n' + '\\n' + \"Also Benji now has a website at\"\\\n",
    "                + \"\\n\" + \"\\U0001F525\\U0001F525\\U0001F525\\U0001F525\\U0001F525\\U0001F525\\U0001F525\\U0001F525\\U0001F525\" \\\n",
    "                + \"\\n\" + \"\\U0001F973 textmsgjournal.com \\U0001F973\" \\\n",
    "                + \"\\n\" + \"\\U0001F525\\U0001F525\\U0001F525\\U0001F525\\U0001F525\\U0001F525\\U0001F525\\U0001F525\\U0001F525\"\n",
    "                + '\\n' + \"where you can login with your email via google\" \\\n",
    "                + '\\n' + '\\n' + \"(The website is still in production.)\"\n",
    "            ),\n",
    "            from_='+12058555174',\n",
    "            to=str(row['phone'])\n",
    "        )\n",
    "    except:\n",
    "        print(\"Failed to send to \" + str(row['phone']))"
   ],
   "outputs": [
    {
     "output_type": "stream",
     "name": "stdout",
     "text": [
      "Failed to send to 2059377587\n"
     ]
    }
   ],
   "metadata": {
    "collapsed": false
   }
  },
  {
   "cell_type": "code",
   "execution_count": 43,
   "source": [
    "from datetime import datetime, time\n",
    "import pytz\n",
    "UTC_DT=datetime.today()\n",
    "\n",
    "CST_TZ = pytz.timezone('America/Chicago')\n",
    "HST_TZ = pytz.timezone('US/Hawaii')\n",
    "\n",
    "CST_DT = datetime.now(CST_TZ)\n",
    "HST_DT = datetime.now(HST_TZ)"
   ],
   "outputs": [],
   "metadata": {
    "collapsed": true
   }
  }
 ],
 "metadata": {
  "interpreter": {
   "hash": "98590ff4fe04c8543246b2a01debd3de3c5ca9b666f43f1fa87d5110c692004c"
  },
  "kernelspec": {
   "name": "python3",
   "display_name": "Python 3.10.2 64-bit"
  },
  "language_info": {
   "codemirror_mode": {
    "name": "ipython",
    "version": 3
   },
   "file_extension": ".py",
   "mimetype": "text/x-python",
   "name": "python",
   "nbconvert_exporter": "python",
   "pygments_lexer": "ipython3",
   "version": "3.10.2"
  }
 },
 "nbformat": 4,
 "nbformat_minor": 2
}